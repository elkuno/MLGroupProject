{
 "cells": [
  {
   "cell_type": "markdown",
   "metadata": {},
   "source": [
    "# Testing with MLP(Multi-Layer Perceptron) on image data only"
   ]
  },
  {
   "cell_type": "code",
   "execution_count": 2,
   "metadata": {},
   "outputs": [],
   "source": [
    "import torch\n",
    "import torch.nn as nn\n",
    "import torch.optim as optim\n",
    "from torch.utils.data import Dataset, DataLoader\n",
    "from torchvision import transforms\n",
    "from PIL import Image\n",
    "import pandas as pd\n",
    "import os\n",
    "from sklearn.preprocessing import LabelEncoder\n",
    "from sklearn.model_selection import train_test_split\n",
    "import torch.nn.functional as F\n",
    "import torch.optim as optim"
   ]
  },
  {
   "cell_type": "code",
   "execution_count": 3,
   "metadata": {},
   "outputs": [],
   "source": [
    "device = torch.device(\"cuda:0\" if torch.cuda.is_available() else \"cpu\")"
   ]
  },
  {
   "cell_type": "code",
   "execution_count": 4,
   "metadata": {},
   "outputs": [],
   "source": [
    "full_X_train_transformed = pd.read_csv('CSV/pre-processed/full_X_train_transformed')\n",
    "full_y_train = pd.read_csv('CSV/pre-processed/full_y_train')\n",
    "full_y_train = full_y_train.drop(columns=['id'])\n",
    "full_y_train = full_y_train.iloc[:, 0]\n",
    "\n",
    "\n",
    "\n",
    "full_X_test_transformed = pd.read_csv('CSV/pre-processed/full_X_test_transformed')\n"
   ]
  },
  {
   "cell_type": "code",
   "execution_count": 5,
   "metadata": {},
   "outputs": [],
   "source": [
    "# Extracting only the image data from the full_X_train_transformed DataFrame\n",
    "image_data_train = full_X_train_transformed.iloc[:, -40000:]\n",
    "image_data_test = full_X_test_transformed.iloc[:, -40000:]"
   ]
  },
  {
   "cell_type": "code",
   "execution_count": 6,
   "metadata": {},
   "outputs": [
    {
     "name": "stdout",
     "output_type": "stream",
     "text": [
      "(990, 40000)\n",
      "(594, 40000)\n",
      "(990,)\n"
     ]
    }
   ],
   "source": [
    "print(image_data_train.shape)\n",
    "print(image_data_test.shape)\n",
    "print(full_y_train.shape)"
   ]
  },
  {
   "cell_type": "code",
   "execution_count": 7,
   "metadata": {},
   "outputs": [],
   "source": [
    "image_data_train.columns = range(40000)\n",
    "image_data_test.columns = range(40000)"
   ]
  },
  {
   "cell_type": "code",
   "execution_count": 8,
   "metadata": {},
   "outputs": [
    {
     "name": "stdout",
     "output_type": "stream",
     "text": [
      "Training set size: (792, 40000)\n",
      "Validation set size: (198, 40000)\n"
     ]
    }
   ],
   "source": [
    "encoder = LabelEncoder()\n",
    "y_train_encoded = encoder.fit_transform(full_y_train)\n",
    "\n",
    "# Splitting 20% of the training data as a validation set\n",
    "X_train, X_val, y_train_encoded_split, y_val_encoded_split = train_test_split(\n",
    "    image_data_train, y_train_encoded, test_size=0.2, stratify=y_train_encoded, random_state=42\n",
    ")\n",
    "\n",
    "print(f\"Training set size: {X_train.shape}\")\n",
    "print(f\"Validation set size: {X_val.shape}\")\n"
   ]
  },
  {
   "cell_type": "code",
   "execution_count": 15,
   "metadata": {},
   "outputs": [],
   "source": [
    "class MLP(nn.Module):\n",
    "    def __init__(self, input_dim, output_dim):\n",
    "        super(MLP, self).__init__()\n",
    "        self.fc1 = nn.Linear(input_dim, 1024)\n",
    "        self.dropout1 = nn.Dropout(0.5)\n",
    "        self.fc2 = nn.Linear(1024, 512)\n",
    "        self.dropout2 = nn.Dropout(0.5)\n",
    "        self.fc3 = nn.Linear(512, 256)\n",
    "        self.fc4 = nn.Linear(256, output_dim)\n",
    "\n",
    "    def forward(self, x):\n",
    "        x = F.relu(self.fc1(x))\n",
    "        x = self.dropout1(x)\n",
    "        x = F.relu(self.fc2(x))\n",
    "        x = self.dropout2(x)\n",
    "        x = F.relu(self.fc3(x))\n",
    "        x = self.fc4(x)\n",
    "        return x\n"
   ]
  },
  {
   "cell_type": "code",
   "execution_count": 37,
   "metadata": {},
   "outputs": [
    {
     "name": "stdout",
     "output_type": "stream",
     "text": [
      "MLP(\n",
      "  (fc1): Linear(in_features=40000, out_features=1024, bias=True)\n",
      "  (dropout1): Dropout(p=0.5, inplace=False)\n",
      "  (fc2): Linear(in_features=1024, out_features=512, bias=True)\n",
      "  (dropout2): Dropout(p=0.5, inplace=False)\n",
      "  (fc3): Linear(in_features=512, out_features=256, bias=True)\n",
      "  (fc4): Linear(in_features=256, out_features=99, bias=True)\n",
      ")\n"
     ]
    }
   ],
   "source": [
    "# Convert data to tensors\n",
    "X_train_tensor = torch.tensor(X_train.values, dtype=torch.float32).to(device)\n",
    "y_train_tensor = torch.tensor(y_train_encoded_split, dtype=torch.int64).to(device)\n",
    "X_val_tensor = torch.tensor(X_val.values, dtype=torch.float32).to(device)\n",
    "y_val_tensor = torch.tensor(y_val_encoded_split, dtype=torch.int64).to(device)\n",
    "\n",
    "# Define the model\n",
    "n_classes = full_y_train.nunique()\n",
    "model = MLP(input_dim=40000, output_dim=n_classes)\n",
    "model.to(device)\n",
    "\n",
    "print(model)\n",
    "\n",
    "# Define the loss and optimizer\n",
    "criterion = nn.CrossEntropyLoss()\n",
    "optimizer = optim.Adam(model.parameters(), lr=0.0001)"
   ]
  },
  {
   "cell_type": "code",
   "execution_count": 38,
   "metadata": {},
   "outputs": [
    {
     "name": "stdout",
     "output_type": "stream",
     "text": [
      "Epoch [1/100] - Loss: 4.5188727378845215\n",
      "Epoch [2/100] - Loss: 4.585821628570557\n",
      "Epoch [3/100] - Loss: 4.528640270233154\n",
      "Epoch [4/100] - Loss: 4.585545539855957\n",
      "Epoch [5/100] - Loss: 4.532144546508789\n",
      "Epoch [6/100] - Loss: 4.463321208953857\n",
      "Epoch [7/100] - Loss: 4.479396343231201\n",
      "Epoch [8/100] - Loss: 4.468775272369385\n",
      "Epoch [9/100] - Loss: 4.382976531982422\n",
      "Epoch [10/100] - Loss: 4.295924663543701\n",
      "Epoch [11/100] - Loss: 4.155540943145752\n",
      "Epoch [12/100] - Loss: 4.19677734375\n",
      "Epoch [13/100] - Loss: 4.188477039337158\n",
      "Epoch [14/100] - Loss: 3.6623947620391846\n",
      "Epoch [15/100] - Loss: 3.6673736572265625\n",
      "Epoch [16/100] - Loss: 3.584535837173462\n",
      "Epoch [17/100] - Loss: 3.3987693786621094\n",
      "Epoch [18/100] - Loss: 3.345533609390259\n",
      "Epoch [19/100] - Loss: 3.110842704772949\n",
      "Epoch [20/100] - Loss: 3.0806884765625\n",
      "Epoch [21/100] - Loss: 2.945195198059082\n",
      "Epoch [22/100] - Loss: 2.6834399700164795\n",
      "Epoch [23/100] - Loss: 2.70686411857605\n",
      "Epoch [24/100] - Loss: 2.5671565532684326\n",
      "Epoch [25/100] - Loss: 2.612549066543579\n",
      "Epoch [26/100] - Loss: 2.9642441272735596\n",
      "Epoch [27/100] - Loss: 2.231372117996216\n",
      "Epoch [28/100] - Loss: 2.581054925918579\n",
      "Epoch [29/100] - Loss: 2.260342836380005\n",
      "Epoch [30/100] - Loss: 2.2513740062713623\n",
      "Epoch [31/100] - Loss: 2.449713706970215\n",
      "Epoch [32/100] - Loss: 2.1549532413482666\n",
      "Epoch [33/100] - Loss: 2.058690071105957\n",
      "Epoch [34/100] - Loss: 2.004444122314453\n",
      "Epoch [35/100] - Loss: 2.3715405464172363\n",
      "Epoch [36/100] - Loss: 1.691598892211914\n",
      "Epoch [37/100] - Loss: 1.6204009056091309\n",
      "Epoch [38/100] - Loss: 1.6926766633987427\n",
      "Epoch [39/100] - Loss: 1.9667223691940308\n",
      "Epoch [40/100] - Loss: 1.6054152250289917\n",
      "Epoch [41/100] - Loss: 1.7011137008666992\n",
      "Epoch [42/100] - Loss: 1.6424800157546997\n",
      "Epoch [43/100] - Loss: 1.8680933713912964\n",
      "Epoch [44/100] - Loss: 1.7671796083450317\n",
      "Epoch [45/100] - Loss: 1.7089835405349731\n",
      "Epoch [46/100] - Loss: 1.7262444496154785\n",
      "Epoch [47/100] - Loss: 1.4508438110351562\n",
      "Epoch [48/100] - Loss: 1.646664023399353\n",
      "Epoch [49/100] - Loss: 1.7143763303756714\n",
      "Epoch [50/100] - Loss: 1.6757640838623047\n",
      "Epoch [51/100] - Loss: 1.2416026592254639\n",
      "Epoch [52/100] - Loss: 1.6494393348693848\n",
      "Epoch [53/100] - Loss: 1.7383841276168823\n",
      "Epoch [54/100] - Loss: 1.6766724586486816\n",
      "Epoch [55/100] - Loss: 1.38331937789917\n",
      "Epoch [56/100] - Loss: 1.439110279083252\n",
      "Epoch [57/100] - Loss: 1.4024070501327515\n",
      "Epoch [58/100] - Loss: 1.4607595205307007\n",
      "Epoch [59/100] - Loss: 1.3965330123901367\n",
      "Epoch [60/100] - Loss: 1.336997151374817\n",
      "Epoch [61/100] - Loss: 1.163673996925354\n",
      "Epoch [62/100] - Loss: 1.3492976427078247\n",
      "Epoch [63/100] - Loss: 1.0845599174499512\n",
      "Epoch [64/100] - Loss: 1.1393251419067383\n",
      "Epoch [65/100] - Loss: 1.2026766538619995\n",
      "Epoch [66/100] - Loss: 1.3409342765808105\n",
      "Epoch [67/100] - Loss: 1.1707077026367188\n",
      "Epoch [68/100] - Loss: 0.9585735201835632\n",
      "Epoch [69/100] - Loss: 1.0284475088119507\n",
      "Epoch [70/100] - Loss: 1.3716689348220825\n",
      "Epoch [71/100] - Loss: 1.0532726049423218\n",
      "Epoch [72/100] - Loss: 1.0140334367752075\n",
      "Epoch [73/100] - Loss: 1.5788259506225586\n",
      "Epoch [74/100] - Loss: 1.0077589750289917\n",
      "Epoch [75/100] - Loss: 1.324442744255066\n",
      "Epoch [76/100] - Loss: 0.9959661364555359\n",
      "Epoch [77/100] - Loss: 1.0677438974380493\n",
      "Epoch [78/100] - Loss: 0.9956303238868713\n",
      "Epoch [79/100] - Loss: 0.6286385655403137\n",
      "Epoch [80/100] - Loss: 0.6972951292991638\n",
      "Epoch [81/100] - Loss: 0.8093493580818176\n",
      "Epoch [82/100] - Loss: 0.8213620781898499\n",
      "Epoch [83/100] - Loss: 1.006764531135559\n",
      "Epoch [84/100] - Loss: 0.6750355362892151\n",
      "Epoch [85/100] - Loss: 0.935968816280365\n",
      "Epoch [86/100] - Loss: 0.9234877228736877\n",
      "Epoch [87/100] - Loss: 0.6926653981208801\n",
      "Epoch [88/100] - Loss: 0.8828751444816589\n",
      "Epoch [89/100] - Loss: 1.223702073097229\n",
      "Epoch [90/100] - Loss: 0.7412391304969788\n",
      "Epoch [91/100] - Loss: 0.9645166993141174\n",
      "Epoch [92/100] - Loss: 0.9129876494407654\n",
      "Epoch [93/100] - Loss: 0.6664685606956482\n",
      "Epoch [94/100] - Loss: 0.64333575963974\n",
      "Epoch [95/100] - Loss: 0.682300329208374\n",
      "Epoch [96/100] - Loss: 0.4976651966571808\n",
      "Epoch [97/100] - Loss: 1.2438850402832031\n",
      "Epoch [98/100] - Loss: 0.7136926651000977\n",
      "Epoch [99/100] - Loss: 0.7058196067810059\n",
      "Epoch [100/100] - Loss: 0.8984599709510803\n",
      "Finished Training\n"
     ]
    }
   ],
   "source": [
    "# Training parameters\n",
    "epochs = 100\n",
    "batch_size = 32\n",
    "\n",
    "# Training loop\n",
    "for epoch in range(epochs):\n",
    "    for i in range(0, len(X_train_tensor), batch_size):\n",
    "        # Determine end index for the current batch\n",
    "        end_idx = min(i + batch_size, len(X_train_tensor))\n",
    "        \n",
    "        # Get the mini-batch data\n",
    "        inputs = X_train_tensor[i:end_idx]\n",
    "        labels = y_train_tensor[i:end_idx]\n",
    "\n",
    "        # Zero the parameter gradients\n",
    "        optimizer.zero_grad()\n",
    "\n",
    "        # Forward + backward + optimize\n",
    "        outputs = model(inputs)\n",
    "        loss = criterion(outputs, labels)\n",
    "        loss.backward()\n",
    "        optimizer.step()\n",
    "\n",
    "    # Print statistics\n",
    "    print(f\"Epoch [{epoch+1}/{epochs}] - Loss: {loss.item()}\")\n",
    "\n",
    "print('Finished Training')"
   ]
  },
  {
   "cell_type": "code",
   "execution_count": 41,
   "metadata": {},
   "outputs": [
    {
     "name": "stdout",
     "output_type": "stream",
     "text": [
      "Accuracy on the validation set: 58.59%\n"
     ]
    }
   ],
   "source": [
    "# Set the model to evaluation mode\n",
    "model.eval()\n",
    "\n",
    "correct_predictions = 0\n",
    "total_predictions = 0\n",
    "\n",
    "# Prevent gradient calculations\n",
    "with torch.no_grad():\n",
    "    for i in range(0, len(X_val_tensor), batch_size):\n",
    "        # Determine end index for the current batch\n",
    "        end_idx = min(i + batch_size, len(X_val_tensor))\n",
    "        \n",
    "        # Get the mini-batch data\n",
    "        inputs = X_val_tensor[i:end_idx]\n",
    "        labels = y_val_tensor[i:end_idx]\n",
    "\n",
    "        # Forward pass\n",
    "        outputs = model(inputs)\n",
    "        _, predicted = torch.max(outputs.data, 1)\n",
    "        \n",
    "        total_predictions += labels.size(0)\n",
    "        correct_predictions += (predicted == labels).sum().item()\n",
    "\n",
    "accuracy = 100 * correct_predictions / total_predictions\n",
    "print(f'Accuracy on the validation set: {accuracy:.2f}%')\n"
   ]
  },
  {
   "cell_type": "markdown",
   "metadata": {},
   "source": [
    "56.06% accuracy on the validation set after 100 epoch training with LR = 0.0001"
   ]
  }
 ],
 "metadata": {
  "kernelspec": {
   "display_name": "mlenv",
   "language": "python",
   "name": "python3"
  },
  "language_info": {
   "codemirror_mode": {
    "name": "ipython",
    "version": 3
   },
   "file_extension": ".py",
   "mimetype": "text/x-python",
   "name": "python",
   "nbconvert_exporter": "python",
   "pygments_lexer": "ipython3",
   "version": "3.11.4"
  }
 },
 "nbformat": 4,
 "nbformat_minor": 2
}
