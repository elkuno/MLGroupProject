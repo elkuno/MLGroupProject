{
 "cells": [
  {
   "cell_type": "code",
   "execution_count": 2,
   "metadata": {},
   "outputs": [],
   "source": [
    "import pandas as pd\n",
    "import numpy as np\n",
    "from sklearn.compose import ColumnTransformer, make_column_transformer\n",
    "from sklearn.pipeline import Pipeline, make_pipeline\n",
    "from sklearn.preprocessing import OneHotEncoder, StandardScaler, OrdinalEncoder, Normalizer\n",
    "from sklearn.model_selection import train_test_split\n",
    "\n",
    "import torch\n",
    "from torchvision.transforms import v2 as transforms\n",
    "from torchvision.io import read_image, ImageReadMode\n",
    "from PIL import Image\n",
    "import pandas as pd\n",
    "import os\n",
    "from sklearn.preprocessing import LabelEncoder\n",
    "from sklearn.model_selection import train_test_split\n",
    "from sklearn.utils import shuffle\n",
    "import numpy as np\n",
    "import matplotlib.pyplot as plt"
   ]
  },
  {
   "cell_type": "markdown",
   "metadata": {},
   "source": [
    "### Preprocessing"
   ]
  },
  {
   "cell_type": "code",
   "execution_count": 3,
   "metadata": {},
   "outputs": [],
   "source": [
    "# Constants\n",
    "IMAGE_X, IMAGE_Y = 200, 200\n",
    "IMAGE_DIM = (IMAGE_X, IMAGE_Y)\n",
    "N_PIXELS = IMAGE_X * IMAGE_Y\n",
    "N_IMAGES = 1584\n",
    "AUGMENTED_ORIGINAL_RATIO = 5    # 5 augmented images for every original image"
   ]
  },
  {
   "cell_type": "code",
   "execution_count": 4,
   "metadata": {},
   "outputs": [],
   "source": [
    "# Read in training and test data\n",
    "train_df = pd.read_csv(\"CSV/train.csv\", index_col='id')\n",
    "test_df = pd.read_csv(\"CSV/test.csv\", index_col='id')"
   ]
  },
  {
   "cell_type": "markdown",
   "metadata": {},
   "source": [
    "#### Image Preprocessing Pipelines"
   ]
  },
  {
   "cell_type": "code",
   "execution_count": 5,
   "metadata": {},
   "outputs": [],
   "source": [
    "# Preprocessing pipelines for data augmentation and normalization\n",
    "\n",
    "# Used to resize normal images to the same size as augmented images\n",
    "image_resizer = transforms.Compose([\n",
    "    transforms.ToImage(),\n",
    "    transforms.Resize(size=(IMAGE_X, IMAGE_Y), antialias=False),\n",
    "    transforms.ToDtype(torch.float32, scale=True),   # TODO do we need float32 at this point?\n",
    "    #transforms.Normalize(mean=[0.5], std=[0.5]),    # TODO fix normalization\n",
    "])\n",
    "\n",
    "# Applies data augmentation to images\n",
    "image_augmentor = transforms.Compose([\n",
    "    transforms.ToImage(),\n",
    "    transforms.RandomRotation(degrees=(0, 360), expand=False, fill=(1)),\n",
    "    transforms.RandomHorizontalFlip(p=0.5),\n",
    "    transforms.RandomVerticalFlip(p=0.5),\n",
    "    transforms.RandomResizedCrop(size=(IMAGE_X, IMAGE_Y), antialias=False),  # TODO consider deleting this one\n",
    "    transforms.ToDtype(torch.float32, scale=True),\n",
    "    #transforms.Normalize(mean=[0.5], std=[0.5]),    # TODO fix normalization\n",
    "])\n"
   ]
  },
  {
   "cell_type": "code",
   "execution_count": 6,
   "metadata": {},
   "outputs": [
    {
     "data": {
      "text/plain": [
       "<matplotlib.image.AxesImage at 0x1b6fd29d2d0>"
      ]
     },
     "execution_count": 6,
     "metadata": {},
     "output_type": "execute_result"
    },
    {
     "data": {
      "image/png": "[encoded data removed]",
      "text/plain": [
       "<Figure size 640x480 with 1 Axes>"
      ]
     },
     "metadata": {},
     "output_type": "display_data"
    }
   ],
   "source": [
    "# Verify that image_augmentor applies the desired transformations\n",
    "img = read_image('images/1.jpg', mode=ImageReadMode.GRAY)\n",
    "out = [image_augmentor(img) for _ in range(5)]\n",
    "\n",
    "plt.imshow(out[0][0])"
   ]
  },
  {
   "cell_type": "markdown",
   "metadata": {},
   "source": [
    "#### Image Preprocessing"
   ]
  },
  {
   "cell_type": "code",
   "execution_count": 7,
   "metadata": {},
   "outputs": [],
   "source": [
    "# Returns the preprocessed image as a 2D numpy array\n",
    "def load_image(filename):\n",
    "    img = read_image(filename, mode=ImageReadMode.GRAY)\n",
    "    return image_resizer(img)[0].numpy()\n",
    "\n",
    "# Returns a 2D numpy arrays from the augmented images\n",
    "def augment_image(filename):\n",
    "    img = read_image(filename, mode=ImageReadMode.GRAY)\n",
    "    return image_augmentor(img)[0].numpy()\n",
    "\n",
    "# Loads images with specified indices into one-dimensional\n",
    "# pixel data and concatenates it all into a single dataframe\n",
    "def images_to_df(indices):\n",
    "    imgs = [\n",
    "        load_image(f'images/{i}.jpg') for i in indices\n",
    "    ]\n",
    "\n",
    "    # Converts each image to flat 1D representation\n",
    "    df = pd.DataFrame(\n",
    "               np.asarray(imgs).reshape((len(imgs), -1))\n",
    "           ).set_index(indices)\n",
    "    df.columns = df.columns.astype(str)     # Prevents some obscure errors later\n",
    "    return df"
   ]
  },
  {
   "cell_type": "code",
   "execution_count": 8,
   "metadata": {},
   "outputs": [],
   "source": [
    "# Load the data corresponding to each dataset\n",
    "img_train_df = images_to_df(train_df.index)\n",
    "img_test_df = images_to_df(test_df.index)\n",
    "\n",
    "img_train_df = img_train_df.astype(int)\n",
    "img_test_df = img_test_df.astype(int)"
   ]
  },
  {
   "cell_type": "markdown",
   "metadata": {},
   "source": [
    "#### Data Preprocessing Pipelines"
   ]
  },
  {
   "cell_type": "code",
   "execution_count": 9,
   "metadata": {},
   "outputs": [],
   "source": [
    "# Specify the type of each column for us to know what preprocessing needs to be done to each column\n",
    "passthrough_features = [i for i in img_train_df]   # img_train columns are not manually preprocessed\n",
    "\n",
    "# All other non-image/non-y features are numeric\n",
    "numeric_features = list(set([i for i in train_df.drop(columns='species').columns]) - set(passthrough_features))\n",
    "binary_features = []"
   ]
  },
  {
   "cell_type": "code",
   "execution_count": 10,
   "metadata": {},
   "outputs": [],
   "source": [
    "# Define the pipelines for each type of data we have\n",
    "numeric_pipeline = make_pipeline(\n",
    "    # Normalize all of them to unit norm\n",
    "    Normalizer()\n",
    ")\n",
    "\n",
    "# Define our column transformer/preprocessor itself\n",
    "preprocessor = make_column_transformer(\n",
    "    (numeric_pipeline, numeric_features),\n",
    "    ('passthrough', passthrough_features),\n",
    ")"
   ]
  },
  {
   "cell_type": "markdown",
   "metadata": {},
   "source": [
    "#### Concatenated Dataframes & Column Transformations"
   ]
  },
  {
   "cell_type": "code",
   "execution_count": 11,
   "metadata": {},
   "outputs": [],
   "source": [
    "# Concatenates the image data with the metadata into one dataframe\n",
    "full_train_df = pd.concat([train_df, img_train_df], axis=1)\n",
    "full_test_df = pd.concat([test_df, img_test_df], axis=1)\n",
    "\n",
    "# We want to split X (big X because it is a matrix) and y from each other\n",
    "full_X_train = full_train_df.drop(columns=['species'])\n",
    "full_y_train = full_train_df['species']\n",
    "\n",
    "# Funnily enough, the test has no ground truth...\n",
    "full_X_test = full_test_df\n",
    "\n",
    "# Now we want to fit our preprocessor onto our data, so we can actually transform it (then cast it to a DF)\n",
    "full_X_train_transformed = pd.DataFrame(preprocessor.fit_transform(full_X_train))\n",
    "full_X_test_transformed = pd.DataFrame(preprocessor.transform(full_X_test))"
   ]
  },
  {
   "cell_type": "code",
   "execution_count": 12,
   "metadata": {},
   "outputs": [
    {
     "name": "stdout",
     "output_type": "stream",
     "text": [
      "(990,)\n"
     ]
    }
   ],
   "source": [
    "print(full_y_train.shape)"
   ]
  },
  {
   "cell_type": "markdown",
   "metadata": {},
   "source": [
    "### Train/Validation Set Generation with Data Augmentation"
   ]
  },
  {
   "cell_type": "code",
   "execution_count": 13,
   "metadata": {},
   "outputs": [],
   "source": [
    "# Splits into training and validation based on data that hasn't been preprocessed yet (this is important)\n",
    "X_train, X_val, y_train, y_val = train_test_split(full_X_train, full_y_train, test_size=0.1, random_state=42)"
   ]
  },
  {
   "cell_type": "markdown",
   "metadata": {},
   "source": [
    "#### Perform Data Augmentation"
   ]
  },
  {
   "cell_type": "code",
   "execution_count": 14,
   "metadata": {},
   "outputs": [],
   "source": [
    "# Performs data augmentation and saves the metadata + augmented image data to a list\n",
    "# NOTE that these next two cells require a lotta RAM so adjust AUGMENTED_ORIGINAL_RATIO if needed\n",
    "# TODO make function\n",
    "x_aug = []\n",
    "y_aug = []\n",
    "for idx in X_train.index:\n",
    "    for _ in range(AUGMENTED_ORIGINAL_RATIO):\n",
    "        augmented_img = augment_image(f'images/{idx}.jpg')\n",
    "        row = X_train.loc[idx].to_list()\n",
    "        row[-N_PIXELS:] = augmented_img.reshape(-1)\n",
    "        x_aug.append(row)\n",
    "        y_aug.append(y_train.loc[idx])"
   ]
  },
  {
   "cell_type": "code",
   "execution_count": 15,
   "metadata": {},
   "outputs": [],
   "source": [
    "# Creates an actual dataframe containing all of the data\n",
    "# One unfortunate side-effect is that index information is lost on augmented data only\n",
    "X_train_augmented = pd.concat([\n",
    "    X_train,\n",
    "    pd.DataFrame(\n",
    "        x_aug,\n",
    "        index=pd.RangeIndex(start=N_IMAGES + 1, stop=N_IMAGES + len(x_aug) + 1, name='id'),\n",
    "        columns=X_train.columns\n",
    "    )\n",
    "])\n",
    "\n",
    "y_train_augmented = pd.concat([\n",
    "    y_train,\n",
    "    pd.Series(y_aug,\n",
    "              index=pd.RangeIndex(start=N_IMAGES + 1, stop=N_IMAGES + len(x_aug) + 1, name='id'),\n",
    "              name=y_train.name)\n",
    "])\n"
   ]
  },
  {
   "cell_type": "code",
   "execution_count": 17,
   "metadata": {},
   "outputs": [
    {
     "name": "stdout",
     "output_type": "stream",
     "text": [
      "(5346, 40192)\n",
      "(5346,)\n"
     ]
    }
   ],
   "source": [
    "print(X_train_augmented.shape)\n",
    "print(y_train_augmented.shape)"
   ]
  },
  {
   "cell_type": "markdown",
   "metadata": {},
   "source": [
    "#### Train/Validation Set Preprocessing"
   ]
  },
  {
   "cell_type": "code",
   "execution_count": 23,
   "metadata": {},
   "outputs": [],
   "source": [
    "# Shuffle train data so that the augmented data for one image are not all right next to each other\n",
    "X_train_augmented, y_train_augmented = shuffle(X_train_augmented, y_train_augmented)\n",
    "\n",
    "# Only fit on the available train data\n",
    "X_train_augmented_transformed = pd.DataFrame(preprocessor.fit_transform(X_train_augmented), columns=full_X_train.columns)\n",
    "X_val_transformed = pd.DataFrame(preprocessor.transform(X_val), columns=full_X_train.columns)\n",
    "X_test_transformed = pd.DataFrame(preprocessor.transform(full_X_test), columns=full_X_train.columns)"
   ]
  },
  {
   "cell_type": "markdown",
   "metadata": {},
   "source": [
    "#### Save the pre-processed data to csv for access in other jupyter notebooks"
   ]
  },
  {
   "cell_type": "code",
   "execution_count": 25,
   "metadata": {},
   "outputs": [],
   "source": [
    "if not os.path.exists('CSV/pre-processed/training'):\n",
    "    os.makedirs('CSV/pre-processed/training')\n",
    "\n",
    "# These are a whole quarter of a GB lol\n",
    "X_train_augmented_transformed.to_csv('CSV/pre-processed/training/X_train_augmented.csv')\n",
    "y_train_augmented.to_csv('CSV/pre-processed/training/y_train_augmented.csv')"
   ]
  },
  {
   "cell_type": "code",
   "execution_count": null,
   "metadata": {},
   "outputs": [],
   "source": [
    "X_val_transformed.to_csv('CSV/pre-processed/training/X_validation_augmented.csv')\n",
    "y_val.to_csv('CSV/pre-processed/training/y_validation_augmented.csv')\n",
    "\n",
    "X_test_transformed.to_csv('CSV/pre-processed/training/X_test_augmented.csv')"
   ]
  },
  {
   "cell_type": "markdown",
   "metadata": {},
   "source": [
    "### Full Train Set Data Augmentation"
   ]
  },
  {
   "cell_type": "code",
   "execution_count": 26,
   "metadata": {},
   "outputs": [],
   "source": [
    "# Saves augmentation to a list\n",
    "x_aug = []\n",
    "y_aug = []\n",
    "for idx in full_X_train.index:\n",
    "    for _ in range(AUGMENTED_ORIGINAL_RATIO):\n",
    "        augmented_img = augment_image(f'images/{idx}.jpg')\n",
    "        row = full_X_train.loc[idx].to_list()\n",
    "        row[-N_PIXELS:] = augmented_img.reshape(-1)\n",
    "        x_aug.append(row)\n",
    "        y_aug.append(full_y_train.loc[idx])"
   ]
  },
  {
   "cell_type": "code",
   "execution_count": 29,
   "metadata": {},
   "outputs": [],
   "source": [
    "# Concatenates the lists as dataframes\n",
    "full_X_train_augmented = pd.concat([\n",
    "    full_X_train,\n",
    "    pd.DataFrame(\n",
    "        x_aug,\n",
    "        index=pd.RangeIndex(start=N_IMAGES + 1, stop=N_IMAGES + len(x_aug) + 1, name='id'),\n",
    "        columns=X_train.columns\n",
    "    )\n",
    "])\n",
    "\n",
    "full_y_train_augmented = pd.concat([\n",
    "    full_y_train,\n",
    "    pd.Series(y_aug,\n",
    "              index=pd.RangeIndex(start=N_IMAGES + 1, stop=N_IMAGES + len(x_aug) + 1, name='id'),\n",
    "              name=y_train.name)\n",
    "])"
   ]
  },
  {
   "cell_type": "code",
   "execution_count": 30,
   "metadata": {},
   "outputs": [
    {
     "name": "stdout",
     "output_type": "stream",
     "text": [
      "(5940, 40192)\n",
      "(5940,)\n"
     ]
    }
   ],
   "source": [
    "print(full_X_train_augmented.shape)\n",
    "print(full_y_train_augmented.shape)"
   ]
  },
  {
   "cell_type": "code",
   "execution_count": 31,
   "metadata": {},
   "outputs": [],
   "source": [
    "# Shuffle train data so that the augmented versions of one image are not all right next to each other\n",
    "full_X_train_augmented, full_y_train_augmented = shuffle(full_X_train_augmented, full_y_train_augmented)\n",
    "\n",
    "# Only fit on the available train data\n",
    "full_X_train_final = pd.DataFrame(preprocessor.fit_transform(full_X_train_augmented), columns=full_X_train.columns)\n",
    "full_X_test_final = pd.DataFrame(preprocessor.transform(full_X_test), columns=full_X_train.columns)"
   ]
  },
  {
   "cell_type": "code",
   "execution_count": 32,
   "metadata": {},
   "outputs": [],
   "source": [
    "# Output to \n",
    "if not os.path.exists('CSV/pre-processed/training'):\n",
    "    os.makedirs('CSV/pre-processed/training')\n",
    "\n",
    "full_X_train_final.to_csv('CSV/pre-processed/training/full_X_train_augmented.csv')\n",
    "full_y_train_augmented.to_csv('CSV/pre-processed/training/full_y_train_augmented.csv')\n",
    "full_X_test_final.to_csv('CSV/pre-processed/training/full_X_test_augmented.csv')"
   ]
  }
 ],
 "metadata": {
  "kernelspec": {
   "display_name": "Python 3 (ipykernel)",
   "language": "python",
   "name": "python3"
  },
  "language_info": {
   "codemirror_mode": {
    "name": "ipython",
    "version": 3
   },
   "file_extension": ".py",
   "mimetype": "text/x-python",
   "name": "python",
   "nbconvert_exporter": "python",
   "pygments_lexer": "ipython3",
   "version": "3.11.1"
  }
 },
 "nbformat": 4,
 "nbformat_minor": 2
}
