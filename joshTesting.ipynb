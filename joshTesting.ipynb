{
 "cells": [
  {
   "cell_type": "markdown",
   "metadata": {},
   "source": [
    "# Testing with MLP(Multi-Layer Perceptron) on image data only"
   ]
  },
  {
   "cell_type": "code",
   "execution_count": 1,
   "metadata": {},
   "outputs": [],
   "source": [
    "import torch\n",
    "import torch.nn as nn\n",
    "import torch.optim as optim\n",
    "from torch.utils.data import Dataset, DataLoader\n",
    "from torchvision import transforms\n",
    "from PIL import Image\n",
    "import pandas as pd\n",
    "import os\n",
    "from sklearn.preprocessing import LabelEncoder\n",
    "from sklearn.model_selection import train_test_split\n",
    "import torch.nn.functional as F\n",
    "import torch.optim as optim"
   ]
  },
  {
   "cell_type": "code",
   "execution_count": 2,
   "metadata": {},
   "outputs": [],
   "source": [
    "device = torch.device(\"cuda:0\" if torch.cuda.is_available() else \"cpu\")"
   ]
  },
  {
   "cell_type": "code",
   "execution_count": 21,
   "metadata": {},
   "outputs": [],
   "source": [
    "full_X_train_transformed = pd.read_csv('CSV/pre-processed/full_X_train_transformed')\n",
    "full_y_train = pd.read_csv('CSV/pre-processed/full_y_train')\n",
    "full_y_train = full_y_train.drop(columns=['id'])\n",
    "full_y_train = full_y_train.iloc[:, 0]\n",
    "\n",
    "\n",
    "\n",
    "full_X_test_transformed = pd.read_csv('CSV/pre-processed/full_X_test_transformed')\n"
   ]
  },
  {
   "cell_type": "code",
   "execution_count": 22,
   "metadata": {},
   "outputs": [],
   "source": [
    "# Extracting only the image data from the full_X_train_transformed DataFrame\n",
    "image_data_train = full_X_train_transformed.iloc[:, -40000:]\n",
    "image_data_test = full_X_test_transformed.iloc[:, -40000:]"
   ]
  },
  {
   "cell_type": "code",
   "execution_count": 23,
   "metadata": {},
   "outputs": [
    {
     "name": "stdout",
     "output_type": "stream",
     "text": [
      "(990, 40000)\n",
      "(594, 40000)\n",
      "(990,)\n"
     ]
    }
   ],
   "source": [
    "print(image_data_train.shape)\n",
    "print(image_data_test.shape)\n",
    "print(full_y_train.shape)"
   ]
  },
  {
   "cell_type": "code",
   "execution_count": 24,
   "metadata": {},
   "outputs": [],
   "source": [
    "image_data_train.columns = range(40000)\n",
    "image_data_test.columns = range(40000)"
   ]
  },
  {
   "cell_type": "code",
   "execution_count": 25,
   "metadata": {},
   "outputs": [
    {
     "name": "stdout",
     "output_type": "stream",
     "text": [
      "Training set size: (792, 40000)\n",
      "Validation set size: (198, 40000)\n"
     ]
    }
   ],
   "source": [
    "encoder = LabelEncoder()\n",
    "y_train_encoded = encoder.fit_transform(full_y_train)\n",
    "\n",
    "# Splitting 20% of the training data as a validation set\n",
    "X_train, X_val, y_train_encoded_split, y_val_encoded_split = train_test_split(\n",
    "    image_data_train, y_train_encoded, test_size=0.2, stratify=y_train_encoded, random_state=42\n",
    ")\n",
    "\n",
    "print(f\"Training set size: {X_train.shape}\")\n",
    "print(f\"Validation set size: {X_val.shape}\")\n"
   ]
  },
  {
   "cell_type": "code",
   "execution_count": 26,
   "metadata": {},
   "outputs": [],
   "source": [
    "class MLP(nn.Module):\n",
    "    def __init__(self, input_dim, output_dim):\n",
    "        super(MLP, self).__init__()\n",
    "        self.fc1 = nn.Linear(input_dim, 1024)\n",
    "        self.dropout1 = nn.Dropout(0.5)\n",
    "        self.fc2 = nn.Linear(1024, 512)\n",
    "        self.dropout2 = nn.Dropout(0.5)\n",
    "        self.fc3 = nn.Linear(512, 256)\n",
    "        self.fc4 = nn.Linear(256, output_dim)\n",
    "\n",
    "    def forward(self, x):\n",
    "        x = F.relu(self.fc1(x))\n",
    "        x = self.dropout1(x)\n",
    "        x = F.relu(self.fc2(x))\n",
    "        x = self.dropout2(x)\n",
    "        x = F.relu(self.fc3(x))\n",
    "        x = self.fc4(x)\n",
    "        return x\n"
   ]
  },
  {
   "cell_type": "code",
   "execution_count": 27,
   "metadata": {},
   "outputs": [],
   "source": [
    "# Convert data to tensors\n",
    "X_train_tensor = torch.tensor(X_train.values, dtype=torch.float32).to(device)\n",
    "y_train_tensor = torch.tensor(y_train_encoded_split, dtype=torch.int64).to(device)\n",
    "X_val_tensor = torch.tensor(X_val.values, dtype=torch.float32).to(device)\n",
    "y_val_tensor = torch.tensor(y_val_encoded_split, dtype=torch.int64).to(device)\n",
    "\n",
    "# Define the model\n",
    "n_classes = full_y_train.nunique()\n",
    "model = MLP(input_dim=40000, output_dim=n_classes)\n",
    "model.to(device)\n",
    "\n",
    "\n",
    "# Define the loss and optimizer\n",
    "criterion = nn.CrossEntropyLoss()\n",
    "optimizer = optim.Adam(model.parameters(), lr=0.001)"
   ]
  },
  {
   "cell_type": "code",
   "execution_count": 32,
   "metadata": {},
   "outputs": [
    {
     "name": "stdout",
     "output_type": "stream",
     "text": [
      "Epoch [1/100] - Loss: 0.010041317902505398\n",
      "Epoch [2/100] - Loss: 0.0011663961922749877\n",
      "Epoch [3/100] - Loss: 0.0015744155971333385\n",
      "Epoch [4/100] - Loss: 0.0031500961631536484\n",
      "Epoch [5/100] - Loss: 0.032679639756679535\n",
      "Epoch [6/100] - Loss: 0.00014401400403585285\n",
      "Epoch [7/100] - Loss: 0.00020508946909103543\n",
      "Epoch [8/100] - Loss: 0.00013546342961490154\n",
      "Epoch [9/100] - Loss: 0.0001192311174236238\n",
      "Epoch [10/100] - Loss: 0.00011548225302249193\n",
      "Epoch [11/100] - Loss: 0.00011302408529445529\n",
      "Epoch [12/100] - Loss: 0.000110417022369802\n",
      "Epoch [13/100] - Loss: 0.00010797390132211149\n",
      "Epoch [14/100] - Loss: 0.00010579888476058841\n",
      "Epoch [15/100] - Loss: 0.00010373310215072706\n",
      "Epoch [16/100] - Loss: 0.00010168721928494051\n",
      "Epoch [17/100] - Loss: 9.969592792913318e-05\n",
      "Epoch [18/100] - Loss: 9.775434591574594e-05\n",
      "Epoch [19/100] - Loss: 9.585244697518647e-05\n",
      "Epoch [20/100] - Loss: 9.40548416110687e-05\n",
      "Epoch [21/100] - Loss: 9.225725079886615e-05\n",
      "Epoch [22/100] - Loss: 9.037030395120382e-05\n",
      "Epoch [23/100] - Loss: 8.861741662258282e-05\n",
      "Epoch [24/100] - Loss: 8.706806693226099e-05\n",
      "Epoch [25/100] - Loss: 8.540455746697262e-05\n",
      "Epoch [26/100] - Loss: 8.40190623421222e-05\n",
      "Epoch [27/100] - Loss: 8.258394518634304e-05\n",
      "Epoch [28/100] - Loss: 8.087576134130359e-05\n",
      "Epoch [29/100] - Loss: 7.948533311719075e-05\n",
      "Epoch [30/100] - Loss: 7.810483657522127e-05\n",
      "Epoch [31/100] - Loss: 7.652080967091024e-05\n",
      "Epoch [32/100] - Loss: 7.509563874918967e-05\n",
      "Epoch [33/100] - Loss: 7.366549107246101e-05\n",
      "Epoch [34/100] - Loss: 7.207648741314188e-05\n",
      "Epoch [35/100] - Loss: 7.08002844476141e-05\n",
      "Epoch [36/100] - Loss: 6.951909745112062e-05\n",
      "Epoch [37/100] - Loss: 6.810386548750103e-05\n",
      "Epoch [38/100] - Loss: 6.693691102555022e-05\n",
      "Epoch [39/100] - Loss: 6.58344870316796e-05\n",
      "Epoch [40/100] - Loss: 6.467744969995692e-05\n",
      "Epoch [41/100] - Loss: 6.343601125990972e-05\n",
      "Epoch [42/100] - Loss: 6.227400444913656e-05\n",
      "Epoch [43/100] - Loss: 6.12460498814471e-05\n",
      "Epoch [44/100] - Loss: 6.013369784341194e-05\n",
      "Epoch [45/100] - Loss: 5.924477954977192e-05\n",
      "Epoch [46/100] - Loss: 5.8127454394707456e-05\n",
      "Epoch [47/100] - Loss: 5.704489376512356e-05\n",
      "Epoch [48/100] - Loss: 5.60963962925598e-05\n",
      "Epoch [49/100] - Loss: 5.519754995475523e-05\n",
      "Epoch [50/100] - Loss: 5.4214298870647326e-05\n",
      "Epoch [51/100] - Loss: 5.329559280653484e-05\n",
      "Epoch [52/100] - Loss: 5.24712486367207e-05\n",
      "Epoch [53/100] - Loss: 5.150784636498429e-05\n",
      "Epoch [54/100] - Loss: 5.072320345789194e-05\n",
      "Epoch [55/100] - Loss: 4.9878977733897045e-05\n",
      "Epoch [56/100] - Loss: 4.908937626169063e-05\n",
      "Epoch [57/100] - Loss: 4.828984310734086e-05\n",
      "Epoch [58/100] - Loss: 4.7544923290843144e-05\n",
      "Epoch [59/100] - Loss: 4.677518518292345e-05\n",
      "Epoch [60/100] - Loss: 4.607496885000728e-05\n",
      "Epoch [61/100] - Loss: 4.543929753708653e-05\n",
      "Epoch [62/100] - Loss: 4.4768861698685214e-05\n",
      "Epoch [63/100] - Loss: 4.406366861076094e-05\n",
      "Epoch [64/100] - Loss: 4.3427993659861386e-05\n",
      "Epoch [65/100] - Loss: 4.282211375539191e-05\n",
      "Epoch [66/100] - Loss: 4.218147660139948e-05\n",
      "Epoch [67/100] - Loss: 4.150111271883361e-05\n",
      "Epoch [68/100] - Loss: 4.0944894863059744e-05\n",
      "Epoch [69/100] - Loss: 4.030921991216019e-05\n",
      "Epoch [70/100] - Loss: 3.9703336369711906e-05\n",
      "Epoch [71/100] - Loss: 3.911733074346557e-05\n",
      "Epoch [72/100] - Loss: 3.8486625271616504e-05\n",
      "Epoch [73/100] - Loss: 3.7920453905826434e-05\n",
      "Epoch [74/100] - Loss: 3.74039591406472e-05\n",
      "Epoch [75/100] - Loss: 3.6867608287138864e-05\n",
      "Epoch [76/100] - Loss: 3.628655758802779e-05\n",
      "Epoch [77/100] - Loss: 3.575019582058303e-05\n",
      "Epoch [78/100] - Loss: 3.520887912600301e-05\n",
      "Epoch [79/100] - Loss: 3.4771834179991856e-05\n",
      "Epoch [80/100] - Loss: 3.42304992955178e-05\n",
      "Epoch [81/100] - Loss: 3.370407284819521e-05\n",
      "Epoch [82/100] - Loss: 3.3197513403138146e-05\n",
      "Epoch [83/100] - Loss: 3.283992191427387e-05\n",
      "Epoch [84/100] - Loss: 3.23085296258796e-05\n",
      "Epoch [85/100] - Loss: 3.1950941774994135e-05\n",
      "Epoch [86/100] - Loss: 3.1479128665523604e-05\n",
      "Epoch [87/100] - Loss: 3.1096715247258544e-05\n",
      "Epoch [88/100] - Loss: 3.0555387638742104e-05\n",
      "Epoch [89/100] - Loss: 3.0172968763508834e-05\n",
      "Epoch [90/100] - Loss: 2.976572432089597e-05\n",
      "Epoch [91/100] - Loss: 2.934854455816094e-05\n",
      "Epoch [92/100] - Loss: 2.900585241150111e-05\n",
      "Epoch [93/100] - Loss: 2.8529082555905916e-05\n",
      "Epoch [94/100] - Loss: 2.816156302287709e-05\n",
      "Epoch [95/100] - Loss: 2.7808942832052708e-05\n",
      "Epoch [96/100] - Loss: 2.736693568294868e-05\n",
      "Epoch [97/100] - Loss: 2.704410690057557e-05\n",
      "Epoch [98/100] - Loss: 2.667658554855734e-05\n",
      "Epoch [99/100] - Loss: 2.633389703987632e-05\n",
      "Epoch [100/100] - Loss: 2.592664532130584e-05\n",
      "Finished Training\n"
     ]
    }
   ],
   "source": [
    "# Training parameters\n",
    "epochs = 100\n",
    "batch_size = 32\n",
    "\n",
    "# Training loop\n",
    "for epoch in range(epochs):\n",
    "    for i in range(0, len(X_train_tensor), batch_size):\n",
    "        # Determine end index for the current batch\n",
    "        end_idx = min(i + batch_size, len(X_train_tensor))\n",
    "        \n",
    "        # Get the mini-batch data\n",
    "        inputs = X_train_tensor[i:end_idx]\n",
    "        labels = y_train_tensor[i:end_idx]\n",
    "\n",
    "        # Zero the parameter gradients\n",
    "        optimizer.zero_grad()\n",
    "\n",
    "        # Forward + backward + optimize\n",
    "        outputs = model(inputs)\n",
    "        loss = criterion(outputs, labels)\n",
    "        loss.backward()\n",
    "        optimizer.step()\n",
    "\n",
    "    # Print statistics\n",
    "    print(f\"Epoch [{epoch+1}/{epochs}] - Loss: {loss.item()}\")\n",
    "\n",
    "print('Finished Training')"
   ]
  },
  {
   "cell_type": "code",
   "execution_count": 33,
   "metadata": {},
   "outputs": [
    {
     "name": "stdout",
     "output_type": "stream",
     "text": [
      "Accuracy on the validation set: 54.55%\n"
     ]
    }
   ],
   "source": [
    "# Set the model to evaluation mode\n",
    "model.eval()\n",
    "\n",
    "correct_predictions = 0\n",
    "total_predictions = 0\n",
    "\n",
    "# Prevent gradient calculations\n",
    "with torch.no_grad():\n",
    "    for i in range(0, len(X_val_tensor), batch_size):\n",
    "        # Determine end index for the current batch\n",
    "        end_idx = min(i + batch_size, len(X_val_tensor))\n",
    "        \n",
    "        # Get the mini-batch data\n",
    "        inputs = X_val_tensor[i:end_idx]\n",
    "        labels = y_val_tensor[i:end_idx]\n",
    "\n",
    "        # Forward pass\n",
    "        outputs = model(inputs)\n",
    "        _, predicted = torch.max(outputs.data, 1)\n",
    "        \n",
    "        total_predictions += labels.size(0)\n",
    "        correct_predictions += (predicted == labels).sum().item()\n",
    "\n",
    "accuracy = 100 * correct_predictions / total_predictions\n",
    "print(f'Accuracy on the validation set: {accuracy:.2f}%')\n"
   ]
  },
  {
   "cell_type": "markdown",
   "metadata": {},
   "source": [
    "54.55% accuracy on the validation set after 300 epoch training"
   ]
  }
 ],
 "metadata": {
  "kernelspec": {
   "display_name": "mlenv",
   "language": "python",
   "name": "python3"
  },
  "language_info": {
   "codemirror_mode": {
    "name": "ipython",
    "version": 3
   },
   "file_extension": ".py",
   "mimetype": "text/x-python",
   "name": "python",
   "nbconvert_exporter": "python",
   "pygments_lexer": "ipython3",
   "version": "3.11.4"
  }
 },
 "nbformat": 4,
 "nbformat_minor": 2
}
