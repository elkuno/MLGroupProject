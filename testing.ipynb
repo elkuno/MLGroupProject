{
 "cells": [
  {
   "cell_type": "code",
   "execution_count": 9,
   "metadata": {},
   "outputs": [
    {
     "name": "stdout",
     "output_type": "stream",
     "text": [
      "Images have been resized and saved in the 'new_images' directory.\n"
     ]
    }
   ],
   "source": [
    "from PIL import Image\n",
    "import os\n",
    "\n",
    "# Path to the images directory on your local machine\n",
    "image_directory = 'images'\n",
    "# Path to the new images directory on your local machine\n",
    "new_image_directory = 'new_images'\n",
    "\n",
    "# Create the new_images directory if it doesn't exist\n",
    "if not os.path.exists(new_image_directory):\n",
    "    os.makedirs(new_image_directory)\n",
    "\n",
    "# Get all image file paths from the directory\n",
    "image_paths = [os.path.join(image_directory, f) for f in os.listdir(image_directory) if os.path.isfile(os.path.join(image_directory, f))]\n",
    "\n",
    "# Dimensions of the largest image\n",
    "largest_dimensions = (1380, 1004)\n",
    "\n",
    "for image_path in image_paths:\n",
    "    with Image.open(image_path) as img:\n",
    "        img = img.convert('L')  # Convert the image to grayscale ('L' mode)\n",
    "        \n",
    "        # Compute padding dimensions\n",
    "        delta_w = largest_dimensions[0] - img.width\n",
    "        delta_h = largest_dimensions[1] - img.height\n",
    "        padding_left = delta_w // 2\n",
    "        padding_top = delta_h // 2\n",
    "        padding_right = padding_left + img.width\n",
    "        padding_bottom = padding_top + img.height\n",
    "        \n",
    "        # Apply padding to make the image match the largest image's dimensions\n",
    "        new_img = Image.new('L', largest_dimensions, 0)  # 0 for black background\n",
    "        new_img.paste(img, (padding_left, padding_top, padding_right, padding_bottom))\n",
    "        \n",
    "        # Save the new image to the new_images directory\n",
    "        new_img_path = os.path.join(new_image_directory, os.path.basename(image_path))\n",
    "        new_img.save(new_img_path)\n",
    "\n",
    "\n",
    "\n",
    "print(f\"Images have been resized and saved in the '{new_image_directory}' directory.\")\n"
   ]
  },
  {
   "cell_type": "code",
   "execution_count": 2,
   "metadata": {},
   "outputs": [
    {
     "name": "stdout",
     "output_type": "stream",
     "text": [
      "Largest image path: images\\389.jpg\n",
      "Largest image dimensions: (1380, 1004)\n"
     ]
    }
   ],
   "source": [
    "from PIL import Image\n",
    "import os\n",
    "\n",
    "# Path to the images directory on your local machine\n",
    "image_directory = 'images'\n",
    "\n",
    "# Get all image file paths from the directory\n",
    "image_paths = [os.path.join(image_directory, f) for f in os.listdir(image_directory) if os.path.isfile(os.path.join(image_directory, f))]\n",
    "\n",
    "# Determine the image with the largest dimensions\n",
    "largest_image_path = None\n",
    "largest_dimensions = (0, 0)\n",
    "\n",
    "for image_path in image_paths:\n",
    "    with Image.open(image_path) as img:\n",
    "        width, height = img.size\n",
    "        if width * height > largest_dimensions[0] * largest_dimensions[1]:\n",
    "            largest_dimensions = (width, height)\n",
    "            largest_image_path = image_path\n",
    "\n",
    "print(f\"Largest image path: {largest_image_path}\")\n",
    "print(f\"Largest image dimensions: {largest_dimensions}\")\n"
   ]
  },
  {
   "cell_type": "code",
   "execution_count": 10,
   "metadata": {},
   "outputs": [],
   "source": [
    "from PIL import Image\n",
    "import os\n",
    "\n",
    "image_directory = \"images\"\n",
    "new_image_directory = \"new_images_2\"\n",
    "desired_size = (200, 200)\n",
    "\n",
    "# Get a list of all image paths\n",
    "image_paths = [os.path.join(image_directory, fname) for fname in os.listdir(image_directory) if fname.endswith(('.png', '.jpg', '.jpeg'))]\n",
    "\n",
    "# Create the new_images directory if it doesn't exist\n",
    "if not os.path.exists(new_image_directory):\n",
    "    os.mkdir(new_image_directory)\n",
    "\n",
    "for image_path in image_paths:\n",
    "    with Image.open(image_path) as img:\n",
    "        img = img.convert('L')  # Convert the image to grayscale ('L' mode)\n",
    "        \n",
    "        # Resize the image to 200x200\n",
    "        resized_img = img.resize(desired_size)\n",
    "        \n",
    "        # Save the resized image to the new_images directory\n",
    "        new_img_path = os.path.join(new_image_directory, os.path.basename(image_path))\n",
    "        resized_img.save(new_img_path)\n"
   ]
  }
 ],
 "metadata": {
  "kernelspec": {
   "display_name": "mlenv",
   "language": "python",
   "name": "python3"
  },
  "language_info": {
   "codemirror_mode": {
    "name": "ipython",
    "version": 3
   },
   "file_extension": ".py",
   "mimetype": "text/x-python",
   "name": "python",
   "nbconvert_exporter": "python",
   "pygments_lexer": "ipython3",
   "version": "3.11.4"
  }
 },
 "nbformat": 4,
 "nbformat_minor": 2
}
